{
 "cells": [
  {
   "cell_type": "markdown",
   "id": "58049a49",
   "metadata": {},
   "source": [
    "Predict Stock Prices 5 Days Ahead"
   ]
  },
  {
   "cell_type": "code",
   "execution_count": null,
   "id": "797cc2fa",
   "metadata": {},
   "outputs": [
    {
     "name": "stdout",
     "output_type": "stream",
     "text": [
      "YF.download() has changed argument auto_adjust default to True\n"
     ]
    },
    {
     "name": "stderr",
     "output_type": "stream",
     "text": [
      "[*********************100%***********************]  1 of 1 completed\n",
      "\n",
      "1 Failed download:\n",
      "['PLTR']: YFRateLimitError('Too Many Requests. Rate limited. Try after a while.')\n"
     ]
    },
    {
     "name": "stdout",
     "output_type": "stream",
     "text": [
      "Empty DataFrame\n",
      "Columns: [Date, PLTR]\n",
      "Index: []\n"
     ]
    }
   ],
   "source": [
    "import yfinance as yf\n",
    "\n",
    "data = yf.download('PLTR', period='1mo')\n",
    "\n",
    "close_price = data['Close'].reset_index()\n",
    "\n",
    "print(close_price)\n",
    "\n"
   ]
  },
  {
   "cell_type": "code",
   "execution_count": 35,
   "id": "eda015c3",
   "metadata": {},
   "outputs": [
    {
     "data": {
      "application/vnd.microsoft.datawrangler.viewer.v0+json": {
       "columns": [
        {
         "name": "index",
         "rawType": "int64",
         "type": "integer"
        },
        {
         "name": "date",
         "rawType": "datetime64[ns]",
         "type": "datetime"
        },
        {
         "name": "Close",
         "rawType": "float64",
         "type": "float"
        }
       ],
       "ref": "f09c8be2-647f-4ece-9cc9-4fb8825690a1",
       "rows": [
        [
         "0",
         "2025-06-06 00:00:00",
         "127.72"
        ],
        [
         "1",
         "2025-06-05 00:00:00",
         "119.91"
        ],
        [
         "2",
         "2025-06-04 00:00:00",
         "130.01"
        ],
        [
         "3",
         "2025-06-03 00:00:00",
         "133.17"
        ],
        [
         "4",
         "2025-06-02 00:00:00",
         "132.04"
        ],
        [
         "5",
         "2025-05-30 00:00:00",
         "131.78"
        ],
        [
         "6",
         "2025-05-29 00:00:00",
         "122.32"
        ],
        [
         "7",
         "2025-05-28 00:00:00",
         "123.76"
        ],
        [
         "8",
         "2025-05-27 00:00:00",
         "123.39"
        ],
        [
         "9",
         "2025-05-23 00:00:00",
         "123.31"
        ],
        [
         "10",
         "2025-05-22 00:00:00",
         "122.29"
        ],
        [
         "11",
         "2025-05-21 00:00:00",
         "120.58"
        ],
        [
         "12",
         "2025-05-20 00:00:00",
         "125.59"
        ],
        [
         "13",
         "2025-05-19 00:00:00",
         "126.33"
        ],
        [
         "14",
         "2025-05-16 00:00:00",
         "129.52"
        ],
        [
         "15",
         "2025-05-15 00:00:00",
         "128.12"
        ],
        [
         "16",
         "2025-05-14 00:00:00",
         "130.18"
        ],
        [
         "17",
         "2025-05-13 00:00:00",
         "128.1"
        ],
        [
         "18",
         "2025-05-12 00:00:00",
         "118.46"
        ],
        [
         "19",
         "2025-05-09 00:00:00",
         "117.3"
        ],
        [
         "20",
         "2025-05-08 00:00:00",
         "119.15"
        ],
        [
         "21",
         "2025-05-07 00:00:00",
         "110.48"
        ],
        [
         "22",
         "2025-05-06 00:00:00",
         "108.86"
        ],
        [
         "23",
         "2025-05-05 00:00:00",
         "123.77"
        ],
        [
         "24",
         "2025-05-02 00:00:00",
         "124.28"
        ],
        [
         "25",
         "2025-05-01 00:00:00",
         "116.2"
        ],
        [
         "26",
         "2025-04-30 00:00:00",
         "118.44"
        ],
        [
         "27",
         "2025-04-29 00:00:00",
         "116.08"
        ],
        [
         "28",
         "2025-04-28 00:00:00",
         "114.65"
        ],
        [
         "29",
         "2025-04-25 00:00:00",
         "112.78"
        ],
        [
         "30",
         "2025-04-24 00:00:00",
         "107.78"
        ],
        [
         "31",
         "2025-04-23 00:00:00",
         "100.82"
        ],
        [
         "32",
         "2025-04-22 00:00:00",
         "93.99"
        ],
        [
         "33",
         "2025-04-21 00:00:00",
         "90.8"
        ],
        [
         "34",
         "2025-04-17 00:00:00",
         "93.78"
        ],
        [
         "35",
         "2025-04-16 00:00:00",
         "92.71"
        ],
        [
         "36",
         "2025-04-15 00:00:00",
         "98.4"
        ],
        [
         "37",
         "2025-04-14 00:00:00",
         "92.62"
        ],
        [
         "38",
         "2025-04-11 00:00:00",
         "88.55"
        ],
        [
         "39",
         "2025-04-10 00:00:00",
         "88.59"
        ],
        [
         "40",
         "2025-04-09 00:00:00",
         "92.01"
        ],
        [
         "41",
         "2025-04-08 00:00:00",
         "77.32"
        ],
        [
         "42",
         "2025-04-07 00:00:00",
         "77.84"
        ],
        [
         "43",
         "2025-04-04 00:00:00",
         "74.01"
        ],
        [
         "44",
         "2025-04-03 00:00:00",
         "83.6"
        ],
        [
         "45",
         "2025-04-02 00:00:00",
         "87.45"
        ],
        [
         "46",
         "2025-04-01 00:00:00",
         "84.68"
        ],
        [
         "47",
         "2025-03-31 00:00:00",
         "84.4"
        ],
        [
         "48",
         "2025-03-28 00:00:00",
         "85.85"
        ],
        [
         "49",
         "2025-03-27 00:00:00",
         "90.09"
        ]
       ],
       "shape": {
        "columns": 2,
        "rows": 100
       }
      },
      "text/html": [
       "<div>\n",
       "<style scoped>\n",
       "    .dataframe tbody tr th:only-of-type {\n",
       "        vertical-align: middle;\n",
       "    }\n",
       "\n",
       "    .dataframe tbody tr th {\n",
       "        vertical-align: top;\n",
       "    }\n",
       "\n",
       "    .dataframe thead th {\n",
       "        text-align: right;\n",
       "    }\n",
       "</style>\n",
       "<table border=\"1\" class=\"dataframe\">\n",
       "  <thead>\n",
       "    <tr style=\"text-align: right;\">\n",
       "      <th></th>\n",
       "      <th>date</th>\n",
       "      <th>Close</th>\n",
       "    </tr>\n",
       "  </thead>\n",
       "  <tbody>\n",
       "    <tr>\n",
       "      <th>0</th>\n",
       "      <td>2025-06-06</td>\n",
       "      <td>127.72</td>\n",
       "    </tr>\n",
       "    <tr>\n",
       "      <th>1</th>\n",
       "      <td>2025-06-05</td>\n",
       "      <td>119.91</td>\n",
       "    </tr>\n",
       "    <tr>\n",
       "      <th>2</th>\n",
       "      <td>2025-06-04</td>\n",
       "      <td>130.01</td>\n",
       "    </tr>\n",
       "    <tr>\n",
       "      <th>3</th>\n",
       "      <td>2025-06-03</td>\n",
       "      <td>133.17</td>\n",
       "    </tr>\n",
       "    <tr>\n",
       "      <th>4</th>\n",
       "      <td>2025-06-02</td>\n",
       "      <td>132.04</td>\n",
       "    </tr>\n",
       "    <tr>\n",
       "      <th>...</th>\n",
       "      <td>...</td>\n",
       "      <td>...</td>\n",
       "    </tr>\n",
       "    <tr>\n",
       "      <th>95</th>\n",
       "      <td>2025-01-21</td>\n",
       "      <td>73.07</td>\n",
       "    </tr>\n",
       "    <tr>\n",
       "      <th>96</th>\n",
       "      <td>2025-01-17</td>\n",
       "      <td>71.77</td>\n",
       "    </tr>\n",
       "    <tr>\n",
       "      <th>97</th>\n",
       "      <td>2025-01-16</td>\n",
       "      <td>69.24</td>\n",
       "    </tr>\n",
       "    <tr>\n",
       "      <th>98</th>\n",
       "      <td>2025-01-15</td>\n",
       "      <td>68.14</td>\n",
       "    </tr>\n",
       "    <tr>\n",
       "      <th>99</th>\n",
       "      <td>2025-01-14</td>\n",
       "      <td>65.91</td>\n",
       "    </tr>\n",
       "  </tbody>\n",
       "</table>\n",
       "<p>100 rows × 2 columns</p>\n",
       "</div>"
      ],
      "text/plain": [
       "         date   Close\n",
       "0  2025-06-06  127.72\n",
       "1  2025-06-05  119.91\n",
       "2  2025-06-04  130.01\n",
       "3  2025-06-03  133.17\n",
       "4  2025-06-02  132.04\n",
       "..        ...     ...\n",
       "95 2025-01-21   73.07\n",
       "96 2025-01-17   71.77\n",
       "97 2025-01-16   69.24\n",
       "98 2025-01-15   68.14\n",
       "99 2025-01-14   65.91\n",
       "\n",
       "[100 rows x 2 columns]"
      ]
     },
     "execution_count": 35,
     "metadata": {},
     "output_type": "execute_result"
    }
   ],
   "source": [
    "from alpha_vantage.timeseries import TimeSeries\n",
    "import os\n",
    "from dotenv import load_dotenv\n",
    "\n",
    "load_dotenv()\n",
    "API_key = os.getenv(\"STOCKAPI_KEY\")\n",
    "\n",
    "ts = TimeSeries(key = API_key, output_format='pandas')\n",
    "\n",
    "data, meta = ts.get_daily('PLTR')\n",
    "\n",
    "\n",
    "close = data[['4. close']]\n",
    "close_df = close.rename(columns={'4. close': 'Close'})\n",
    "close_df = close_df.reset_index()\n",
    "close_df"
   ]
  },
  {
   "cell_type": "code",
   "execution_count": 36,
   "id": "9e1b7f8a",
   "metadata": {},
   "outputs": [
    {
     "name": "stdout",
     "output_type": "stream",
     "text": [
      "         date   Close  sentiment_score\n",
      "0  2025-06-06  127.72        -0.065419\n",
      "1  2025-06-05  119.91        -0.106249\n",
      "2  2025-06-04  130.01        -0.098330\n",
      "3  2025-06-03  133.17        -0.001489\n",
      "4  2025-06-02  132.04        -0.099764\n",
      "5  2025-05-30  131.78         0.040010\n",
      "6  2025-05-29  122.32         0.198328\n",
      "7  2025-05-28  123.76         0.353887\n",
      "8  2025-05-27  123.39         0.301800\n",
      "9  2025-05-23  123.31         0.191797\n",
      "10 2025-05-22  122.29         0.092537\n",
      "11 2025-05-21  120.58         0.022187\n",
      "12 2025-05-20  125.59         0.193016\n",
      "13 2025-05-19  126.33         0.054354\n",
      "14 2025-05-16  129.52        -0.067974\n",
      "15 2025-05-15  128.12         0.020153\n",
      "16 2025-05-14  130.18         0.084889\n",
      "17 2025-05-13  128.10         0.095310\n",
      "18 2025-05-12  118.46         0.039492\n",
      "19 2025-05-09  117.30         0.066564\n"
     ]
    }
   ],
   "source": [
    "import pandas as pd\n",
    "\n",
    "\n",
    "sentiment_df = pd.read_csv('daily_sentiment_scores.csv')\n",
    "\n",
    "#df = pd.DataFrame(close_price)\n",
    "sentiment_df['date'] = pd.to_datetime(sentiment_df['date'])\n",
    "#df['Date'] = pd.to_datetime(df['Date'])\n",
    "\n",
    "dataset_merged = pd.merge(close_df, sentiment_df, on='date', how='inner')\n",
    "\n",
    "print(dataset_merged)"
   ]
  },
  {
   "cell_type": "code",
   "execution_count": null,
   "id": "a329493c",
   "metadata": {},
   "outputs": [],
   "source": [
    "import matplotlib.pyplot as plt\n",
    "\n",
    "plt.plot(close_price)\n",
    "plt.show()"
   ]
  },
  {
   "cell_type": "code",
   "execution_count": 41,
   "id": "e0a06f3f",
   "metadata": {},
   "outputs": [
    {
     "name": "stdout",
     "output_type": "stream",
     "text": [
      "x_train shape: (9, 5, 2)\n",
      "y_train shape: (9, 1)\n"
     ]
    },
    {
     "data": {
      "text/plain": [
       "(1, 5, 2)"
      ]
     },
     "execution_count": 41,
     "metadata": {},
     "output_type": "execute_result"
    }
   ],
   "source": [
    "import numpy as np\n",
    "from sklearn.preprocessing import MinMaxScaler\n",
    "\n",
    "data = dataset_merged[['Close', 'sentiment_score']].to_numpy()\n",
    "\n",
    "scaler = MinMaxScaler()\n",
    "scaled_dataset = scaler.fit_transform(data)\n",
    "\n",
    "\n",
    "train_size = int(len(scaled_dataset) * 0.70)\n",
    "train_set = scaled_dataset[:train_size]\n",
    "test_set = scaled_dataset[train_size:]\n",
    "\n",
    "\n",
    "def create_sequence(data, seq_length, n_steps_ahead):\n",
    "    x = []\n",
    "    y = []\n",
    "    for i in range(seq_length, len(data) - n_steps_ahead + 1):\n",
    "        x.append(data[i-seq_length:i, :]) # All Features\n",
    "        y.append(data[i:i+n_steps_ahead, 0]) #  Close Column\n",
    "    \n",
    "    return np.array(x), np.array(y)\n",
    "\n",
    "x_train, y_train = create_sequence(train_set, 5, 1)\n",
    "x_test, y_test = create_sequence(test_set, 5, 1)\n",
    "\n",
    "# (samples, time_steps, features)\n",
    "#x_train = x_train.reshape((x_train.shape[0],x_train.shape[1],2))\n",
    "#x_test = x_test.reshape((x_test.shape[0], x_test.shape[1], 2))\n",
    "\n",
    "print(\"x_train shape:\", x_train.shape)\n",
    "print(\"y_train shape:\", y_train.shape)\n",
    "x_test.shape"
   ]
  },
  {
   "cell_type": "code",
   "execution_count": 43,
   "id": "a32f8ae4",
   "metadata": {},
   "outputs": [
    {
     "name": "stdout",
     "output_type": "stream",
     "text": [
      "Epoch 0, Loss: 0.6821\n",
      "Epoch 10, Loss: 0.4174\n",
      "Epoch 20, Loss: 0.1004\n",
      "Epoch 30, Loss: 0.0974\n",
      "Epoch 40, Loss: 0.0427\n",
      "Epoch 50, Loss: 0.0973\n",
      "Epoch 60, Loss: 0.0117\n",
      "Epoch 70, Loss: 0.0090\n",
      "Epoch 80, Loss: 0.0189\n",
      "Epoch 90, Loss: 0.0034\n",
      "124.07203115969897\n"
     ]
    }
   ],
   "source": [
    "import torch \n",
    "import torch.nn as nn\n",
    "from torch.utils.data import TensorDataset, DataLoader\n",
    "from torch.optim import Adam \n",
    "\n",
    "x_train_tensor = torch.from_numpy(x_train).float()\n",
    "y_train_tensor = torch.from_numpy(y_train).float()\n",
    "\n",
    "dataset = TensorDataset(x_train_tensor, y_train_tensor)\n",
    "dataloader = DataLoader(dataset, shuffle=True)\n",
    "\n",
    "class LSTM(nn.Module):\n",
    "    \n",
    "    def __init__(self, input_size=2, hidden_size=64, num_layers=2):\n",
    "        \n",
    "        super().__init__()\n",
    "        \n",
    "        \n",
    "        self.hidden_size = hidden_size\n",
    "        self.num_layers = num_layers\n",
    "\n",
    "        self.lstm = nn.LSTM(input_size, hidden_size, num_layers, batch_first=True)\n",
    "        \n",
    "        self.fc = nn.Linear(hidden_size, 1)\n",
    "\n",
    "    def forward(self, input):\n",
    "        h0 = torch.zeros(self.num_layers, input.size(0), self.hidden_size).to(input.device)\n",
    "        c0 = torch.zeros(self.num_layers, input.size(0), self.hidden_size).to(input.device)\n",
    "        \n",
    "        out, _ = self.lstm(input, (h0, c0))\n",
    "        \n",
    "        out = self.fc(out[:, -1, :])\n",
    "        \n",
    "        return out\n",
    "\n",
    "device = torch.device(\"cuda\" if torch.cuda.is_available() else \"cpu\")\n",
    "model = LSTM().to(device)\n",
    "loss_func = nn.MSELoss()\n",
    "optimizer = Adam(model.parameters(), lr=0.01)\n",
    "        \n",
    "\n",
    "\n",
    "max_epochs = 100\n",
    "for epoch in range(max_epochs):\n",
    "    model.train()\n",
    "    epoch_loss = 0 \n",
    "    \n",
    "    for x_batch, y_batch in dataloader:\n",
    "        \n",
    "        optimizer.zero_grad()\n",
    "        \n",
    "        output = model(x_batch)\n",
    "        \n",
    "        loss = loss_func(output, y_batch)\n",
    "        \n",
    "        loss.backward()\n",
    "        \n",
    "        optimizer.step()\n",
    "        \n",
    "        epoch_loss += loss.item()\n",
    "    \n",
    "    if epoch % 10 == 0:\n",
    "        print(f\"Epoch {epoch}, Loss: {epoch_loss:.4f}\")\n",
    "    \n",
    "\n",
    "x_test_tensor = torch.from_numpy(x_test).float()\n",
    "y_test_tensor = torch.from_numpy(y_test).float()\n",
    "\n",
    "\n",
    "model.eval()\n",
    "\n",
    "with torch.no_grad():\n",
    "    prediction = model(x_test_tensor)\n",
    "    predicted_price = prediction.detach().numpy()\n",
    "    #predicted = scaler.inverse_transform(predicted_price)\n",
    "    \n",
    "    dummy_sentiment = np.zeros((predicted_price.shape[0], 1))\n",
    "    reconstructed_input = np.hstack([predicted_price, dummy_sentiment])  # shape (n, 2)\n",
    "\n",
    "# Inverse transform both columns\n",
    "    inversed = scaler.inverse_transform(reconstructed_input)\n",
    "\n",
    "# Extract only the Close price (first column)\n",
    "    actual_predicted_close = inversed[:, 0]\n",
    "\n",
    "print(actual_predicted_close[-1])\n",
    "\n",
    "\n",
    "#print(predicted[-1])\n",
    "    "
   ]
  }
 ],
 "metadata": {
  "kernelspec": {
   "display_name": ".venv",
   "language": "python",
   "name": "python3"
  },
  "language_info": {
   "codemirror_mode": {
    "name": "ipython",
    "version": 3
   },
   "file_extension": ".py",
   "mimetype": "text/x-python",
   "name": "python",
   "nbconvert_exporter": "python",
   "pygments_lexer": "ipython3",
   "version": "3.11.9"
  }
 },
 "nbformat": 4,
 "nbformat_minor": 5
}
