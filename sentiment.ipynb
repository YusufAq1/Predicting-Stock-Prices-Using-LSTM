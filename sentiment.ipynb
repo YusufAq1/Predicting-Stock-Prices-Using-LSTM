{
 "cells": [
  {
   "cell_type": "markdown",
   "id": "3705dccc",
   "metadata": {},
   "source": [
    "### Financial Text Sentiment Analysis\n"
   ]
  },
  {
   "cell_type": "code",
   "execution_count": null,
   "id": "e3c59285",
   "metadata": {},
   "outputs": [],
   "source": []
  },
  {
   "cell_type": "code",
   "execution_count": null,
   "id": "161d50c7",
   "metadata": {},
   "outputs": [
    {
     "name": "stderr",
     "output_type": "stream",
     "text": [
      "Device set to use cpu\n"
     ]
    },
    {
     "name": "stdout",
     "output_type": "stream",
     "text": [
      "          date  sentiment_score\n",
      "0   2025-05-07         0.036310\n",
      "1   2025-05-08         0.116714\n",
      "2   2025-05-09         0.066564\n",
      "3   2025-05-10         0.194385\n",
      "4   2025-05-11        -0.036524\n",
      "5   2025-05-12         0.039492\n",
      "6   2025-05-13         0.095310\n",
      "7   2025-05-14         0.084889\n",
      "8   2025-05-15         0.020153\n",
      "9   2025-05-16        -0.067974\n",
      "10  2025-05-17         0.006837\n",
      "11  2025-05-18        -0.321212\n",
      "12  2025-05-19         0.054354\n",
      "13  2025-05-20         0.193016\n",
      "14  2025-05-21         0.022187\n",
      "15  2025-05-22         0.092537\n",
      "16  2025-05-23         0.191797\n",
      "17  2025-05-24         0.097353\n",
      "18  2025-05-25         0.134601\n",
      "19  2025-05-26         0.312057\n",
      "20  2025-05-27         0.301800\n",
      "21  2025-05-28         0.353887\n",
      "22  2025-05-29         0.198328\n",
      "23  2025-05-30         0.040010\n",
      "24  2025-05-31         0.170645\n",
      "25  2025-06-01        -0.040374\n",
      "26  2025-06-02        -0.099764\n",
      "27  2025-06-03        -0.001489\n",
      "28  2025-06-04        -0.098330\n",
      "29  2025-06-05        -0.106249\n",
      "30  2025-06-06        -0.010698\n",
      "31  2025-06-07         0.000000\n"
     ]
    }
   ],
   "source": [
    "import os\n",
    "from dotenv import load_dotenv\n",
    "from newsapi import NewsApiClient\n",
    "from transformers import pipeline\n",
    "from datetime import datetime, timedelta\n",
    "import pandas as pd\n",
    "\n",
    "load_dotenv()\n",
    "key = os.getenv(\"NEWSAPI_KEY\")\n",
    "\n",
    "newsapi = NewsApiClient(api_key=key)\n",
    "pipe = pipeline(\"text-classification\", model=\"ProsusAI/finbert\")\n",
    "\n",
    "\n",
    "start_date = datetime.strptime('2025-05-07', '%Y-%m-%d')\n",
    "end_date = datetime.today()\n",
    "\n",
    "keyword = 'palantir'\n",
    "label_map = {\"positive\":1, \"neutral\":0, \"negative\":-1}\n",
    "\n",
    "daily_scores = []\n",
    "\n",
    "current_date = start_date\n",
    "\n",
    "while current_date < end_date:  \n",
    "  next_date = current_date + timedelta(days=1)\n",
    "  \n",
    "  news = newsapi.get_everything(q=keyword,\n",
    "                                from_param=current_date.strftime('%Y-%m-%d'),\n",
    "                                to=next_date.strftime('%Y-%m-%d'),\n",
    "                                language='en',\n",
    "                                sort_by='relevancy',\n",
    "                                  )\n",
    "\n",
    "  articles = news['articles']\n",
    "  articles = [article for article in articles if keyword.lower() in article['title'].lower() or keyword.lower() in article['description'].lower()]\n",
    " \n",
    "\n",
    "  total_weight = 0 \n",
    "  weighted_sum = 0\n",
    "\n",
    "\n",
    "  for i, article in enumerate(articles):\n",
    "    if not article['content']:\n",
    "      continue\n",
    "      \n",
    "    #print(f\"Title: {article['title']}\")\n",
    "    #print(f\"Link: {article['url']}\")\n",
    "    #print(f\"Description: {article['description']}\")\n",
    "    \n",
    "    sentiment = pipe(article['content'])[0]\n",
    "    score = label_map.get(sentiment['label'].lower(), 0)\n",
    "    weight = sentiment['score']\n",
    "    \n",
    "    #print(f\"Sentiment {sentiment['label']}, Score: {sentiment['score']}\")\n",
    "    #print('-' * 40) \n",
    "    \n",
    "    weighted_sum += score * weight\n",
    "    total_weight += weight\n",
    "\n",
    "\n",
    "  final_score = weighted_sum / total_weight if total_weight > 0 else 0\n",
    "  daily_scores.append({'date': current_date.strftime('%Y-%m-%d'), 'sentiment_score' : final_score})\n",
    "  #print(f\"Overall Sentiment: {'Positive' if final_score > 0.2 else 'Negative' if final_score < -0.2 else 'Neutral'} {final_score}\")\n",
    "  \n",
    "  current_date = next_date\n",
    "\n",
    "df = pd.DataFrame(daily_scores)\n",
    "print(df)\n",
    "\n",
    "df.to_csv('daily_sentiment_scores.csv', index=False)\n",
    "\n"
   ]
  },
  {
   "cell_type": "code",
   "execution_count": null,
   "id": "6be0f2c7",
   "metadata": {},
   "outputs": [],
   "source": []
  }
 ],
 "metadata": {
  "kernelspec": {
   "display_name": ".venv",
   "language": "python",
   "name": "python3"
  },
  "language_info": {
   "codemirror_mode": {
    "name": "ipython",
    "version": 3
   },
   "file_extension": ".py",
   "mimetype": "text/x-python",
   "name": "python",
   "nbconvert_exporter": "python",
   "pygments_lexer": "ipython3",
   "version": "3.11.9"
  }
 },
 "nbformat": 4,
 "nbformat_minor": 5
}
